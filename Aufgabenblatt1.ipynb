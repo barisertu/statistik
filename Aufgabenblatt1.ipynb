{
 "cells": [
  {
   "cell_type": "code",
   "execution_count": 7,
   "id": "392e14ec-ed15-4826-91ad-a34697817f09",
   "metadata": {},
   "outputs": [],
   "source": [
    "import numpy as np\n",
    "import pandas as pd\n",
    "import matplotlib.pyplot as plt\n",
    "import seaborn as sea\n",
    "from scipy.stats import contingency\n",
    "\n",
    "# es dürfen gerne weitere/andere Module benutzt werden"
   ]
  },
  {
   "cell_type": "markdown",
   "id": "5f6e1f94-79dd-48e3-bbaf-aebfc6037a2a",
   "metadata": {},
   "source": [
    "Lade den Datensatz zur Umfrage unter Studierenden bezüglich COVID-19.\n",
    "\n",
    "**1)** *Datenaufbereitung*: Überprüfe ob es fehlende Einträge im Datensatz gibt. Entferne alle Beoabchtungen, wo mehr als ein Drittel der Merkmale keinen Eintrag haben. Wieviele Beobachtungen und welche Anzahl an Merkmalen hat der Datensatz nach dieser Bearbeitung? [2 Punkte]"
   ]
  },
  {
   "cell_type": "code",
   "execution_count": 15,
   "id": "9a7f748f-f0ad-455a-9621-9307d90123be",
   "metadata": {},
   "outputs": [
    {
     "data": {
      "text/plain": [
       "<bound method DataFrame.info of Empty DataFrame\n",
       "Columns: []\n",
       "Index: [R1,Delhi-NCR,21,2.0,Good,Laptop/Desktop,4.0,0.0,7.0,3.0,Linkedin,1,4,Increased,NO,Cooking,YES,YES,School/college, R2,Delhi-NCR,21,0.0,Excellent,Smartphone,0.0,2.0,10.0,3.0,Youtube,0,3,Decreased,NO,Scrolling through social media,YES,NO,Roaming around freely, R3,Delhi-NCR,20,7.0,Very poor,Laptop/Desktop,3.0,0.0,6.0,2.0,Linkedin,0,3,Remain Constant,NO,Listening to music,NO,YES,Travelling, R4,Delhi-NCR,20,3.0,Very poor,Smartphone,2.0,1.0,6.0,5.0,Instagram,0,3,Decreased,NO,Watching web series,NO,NO,\"Friends , relatives\", R5,Delhi-NCR,21,3.0,Good,Laptop/Desktop,3.0,1.0,8.0,3.0,Instagram,1,4,Remain Constant,NO,Social Media,NO,NO,Travelling, R6,Delhi-NCR,21,0.0,Very poor,Smartphone,6.0,0.0,5.0,1.0,Youtube,0,1,Decreased,YES,Coding and studying for exams,NO,YES,School/college, R7,Delhi-NCR,19,2.0,Very poor,Smartphone,2.0,1.0,5.0,4.0,Instagram,0,3,Increased,NO,Watching web series,NO,YES,\"Friends , relatives\", R8,Outside Delhi-NCR,19,2.0,Very poor,Tablet,1.0,1.0,10.0,5.0,Instagram,0,3,Increased,YES,Scrolling through social media,NO,YES,Eating outside, R9,Delhi-NCR,21,3.0,Very poor,Laptop/Desktop,4.0,1.0,8.0,2.0,Whatsapp,1,3,Increased,NO,Online surfing,NO,NO,\"Friends , relatives\", R10,Outside Delhi-NCR,20,0.0,Very poor,Laptop/Desktop,1.0,0.5,8.0,5.0,Instagram,3,3,Decreased,YES,live stream watching,NO,NO,School/college, R11,Delhi-NCR,21,3.0,Good,Laptop/Desktop,3.0,1.0,8.0,3.0,Instagram,1,4,Remain Constant,NO,Social Media,NO,NO,Colleagues, R12,Delhi-NCR,21,1.0,Very poor,Laptop/Desktop,0.0,1.0,7.0,3.0,Instagram,1,2,Increased,YES,Watching web series,YES,YES,Eating outside, R13,Delhi-NCR,21,3.0,Average,Laptop/Desktop,0.0,0.0,8.0,3.0,Instagram,0,3,Increased,YES,Listening to music,NO,NO,School/college, R14,Outside Delhi-NCR,22,1.0,Good,Laptop/Desktop,2.0,0.0,7.0,0.0,,0.5,2,Increased,NO,Reading,YES,YES,Travelling, R15,Delhi-NCR,20,5.0,Very poor,Laptop/Desktop,1.0,0.0,8.0,3.0,Instagram,0,3,Remain Constant,NO,Scrolling through social media,NO,NO,Eating outside, R16,Delhi-NCR,22,3.0,Average,Smartphone,3.0,1.0,6.0,2.0,Instagram,1,3,Increased,NO,Online gaming,YES,YES,Eating outside, R17,Outside Delhi-NCR,20,0.0,Good,Smartphone,0.0,0.0,8.0,2.0,Reddit,1,3,Increased,NO,Online gaming,NO,YES,Colleagues, R18,Delhi-NCR,20,1.0,Very poor,Smartphone,2.0,1.0,8.0,1.0,Youtube,0,3,Remain Constant,NO,Listening to music,NO,NO,Roaming around freely, R19,Delhi-NCR,21,0.0,Very poor,Laptop/Desktop,4.0,0.0,7.0,7.0,Youtube,0.0,2,Remain Constant,NO,Reading books,NO,NO,\"Friends , relatives\", R20,Delhi-NCR,22,5.0,Very poor,Smartphone,2.0,1.0,8.0,4.0,Instagram,0,3,Increased,NO,Dancing,YES,YES,\"Friends , relatives\", R21,Delhi-NCR,20,4.0,Excellent,Laptop/Desktop,5.0,0.0,6.0,2.0,Linkedin,1,2,Decreased,NO,Listening to music,YES,YES,Roaming around freely, R22,Delhi-NCR,21,5.0,Average,Laptop/Desktop,2.0,1.0,10.0,5.0,Instagram,2,3,Remain Constant,NO,Talking with friends ,YES,NO,School/college, R23,Delhi-NCR,21,4.0,Very poor,Smartphone,1.0,0.0,8.0,6.0,Instagram,1,4,Decreased,NO,Watching web series,NO,YES,School/college, R24,Delhi-NCR,21,4.0,Average,Laptop/Desktop,2.0,1.0,7.0,1.0,Linkedin,0,3,Decreased,NO,Dancing,YES,YES,Travelling, R25,Delhi-NCR,20,3.0,Very poor,Smartphone,4.0,2.0,9.0,2.0,Instagram,1,3,Decreased,NO,Reading books,YES,NO,School/college, R26,Delhi-NCR,20,5.0,Very poor,Smartphone,2.0,0.0,9.0,5.0,Linkedin,3,2,Increased,NO,Talking to your relatives,YES,YES,Eating outside, R27,Delhi-NCR,21,4.0,Very poor,Laptop/Desktop,5.0,0.0,8.0,3.0,Instagram,0,2,Increased,YES,Listening to music,NO,YES,School/college, R28,Delhi-NCR,20,3.0,Very poor,Laptop/Desktop,6.0,0.0,9.0,2.0,Whatsapp,0,2,Remain Constant,NO,Listening to music,NO,NO,Roaming around freely, R29,Delhi-NCR,31,8.0,Average,Laptop/Desktop,4.0,1.0,6.0,2.0,Linkedin,0.5,3,Remain Constant,NO,Listening to music,YES,YES,Job, R30,Delhi-NCR,22,4.0,Very poor,Smartphone,6.0,1.0,5.0,3.0,Youtube,0,4,Remain Constant,NO,\"sketching,reading books,meditation,songs\",NO,NO,\"Friends , relatives\", R31,Delhi-NCR,19,4.0,Very poor,Smartphone,5.0,1.0,7.0,2.0,Whatsapp,1,2,Decreased,YES,Listening to music,YES,YES,Roaming around freely, R32,Delhi-NCR,23,4.0,Excellent,Laptop/Desktop,18.0,1.0,8.0,2.0,Snapchat,0,2,Decreased,NO,Reading books,YES,YES,Travelling, R33,Delhi-NCR,21,0.0,Very poor,,5.0,2.0,4.0,2.0,Omegle,0,3,Remain Constant,NO,Watching orgasm releasing videos,YES,NO,Nothing this is my usual life, R34,Delhi-NCR,22,5.0,Very poor,Laptop/Desktop,1.0,0.0,6.0,2.0,Linkedin,0.5,3,Decreased,YES,Watching web series,YES,YES,\"Friends , relatives\", R35,Delhi-NCR,20,0.0,,,6.0,1.0,6.0,5.0,Instagram,0,4,Increased,NO,Talking to your relatives,YES,NO,Eating outside, R36,Outside Delhi-NCR,21,6.0,Average,Smartphone,2.0,1.0,8.0,3.0,Instagram,1,3,Remain Constant,NO,Cooking,NO,YES,\"Friends , relatives\", R37,Delhi-NCR,17,4.0,Very poor,Laptop/Desktop,1.0,1.0,7.0,1.5,Instagram,0,3,Decreased,NO,Reading books,NO,YES,Travelling, R38,Outside Delhi-NCR,20,4.0,Average,Laptop/Desktop,2.0,0.0,8.0,2.0,Instagram,0,3,Increased,NO,Sleep,NO,YES,Eating outside, R39,Outside Delhi-NCR,22,1.0,Very poor,Smartphone,2.0,0.5,8.0,2.0,Linkedin,2,3,Increased,NO,Listening to music,NO,YES,School/college, R40,Delhi-NCR,20,0.0,,,8.0,0.0,8.0,0.0,Youtube,0,3,Increased,NO,Reading books,NO,YES,Travelling, R41,Delhi-NCR,24,4.0,Good,Laptop/Desktop,4.0,2.0,6.0,4.0,Youtube,0,4,Increased,NO,Social Media,YES,YES,Travelling, R42,Outside Delhi-NCR,21,0.0,Very poor,Laptop/Desktop,0.0,0.0,10.0,8.0,Youtube,1,4,Remain Constant,NO,Watching web series,YES,NO,Travelling, R43,Delhi-NCR,20,7.0,Very poor,Smartphone,2.0,1.0,8.0,2.0,Whatsapp,2,4,Remain Constant,YES,Listening to music,NO,NO,Roaming around freely, R44,Delhi-NCR,21,5.0,Very poor,Laptop/Desktop,3.0,1.0,8.0,1.0,Instagram,0,2,Increased,NO,Listening to music,NO,NO,Eating outside, R45,Delhi-NCR,18,2.0,Average,Smartphone,2.0,3.0,12.0,1.0,Linkedin,0,4,Remain Constant,NO,Sleep,NO,NO,\"Friends , relatives\", R46,Delhi-NCR,22,3.0,Very poor,Laptop/Desktop,2.0,0.0,8.0,1.0,Instagram,0,4,Increased,NO,Cooking,NO,YES,Eating outside, R47,Delhi-NCR,20,2.0,Very poor,Smartphone,6.0,2.0,7.0,1.0,Instagram,3,6,Decreased,NO,Listening to music,YES,NO,Roaming around freely, R48,Delhi-NCR,20,2.0,Very poor,Smartphone,3.0,0.0,6.0,2.0,Youtube,0,3,Decreased,YES,Reading books,NO,NO,School/college, R49,Delhi-NCR,21,3.0,Very poor,Laptop/Desktop,4.0,2.0,8.0,2.0,Twitter,0,4,Increased,NO,Listening to music,YES,YES,Travelling, R50,Delhi-NCR,18,4.0,Good,Laptop/Desktop,2.0,0.0,8.0,4.0,Instagram,0,3,Remain Constant,NO,Social Media,YES,YES,Colleagues, R51,Delhi-NCR,19,0.0,Very poor,Smartphone,1.0,0.0,8.0,2.0,Youtube,2,3,Remain Constant,YES,Online gaming,NO,YES,School/college, R52,Delhi-NCR,20,5.0,Average,Laptop/Desktop,6.0,1.0,7.0,2.0,Whatsapp,0,3,Remain Constant,NO,Reading books,NO,YES,Roaming around freely, R53,Delhi-NCR,21,3.0,Average,Laptop/Desktop,17.0,0.0,5.0,1.0,Youtube,0,3,Increased,NO,Online gaming,NO,NO,\"Friends , relatives\", R54,Delhi-NCR,19,0.0,Average,Smartphone,2.0,2.0,10.0,1.0,Instagram,0.5,4,Remain Constant,NO,Reading books,YES,YES,Roaming around freely, R55,Delhi-NCR,21,4.0,Average,Smartphone,4.0,1.0,8.0,2.0,Youtube,2,4,Remain Constant,NO,Sleep,YES,YES,Gym, R56,Delhi-NCR,19,4.0,Very poor,Smartphone,2.0,0.0,7.0,1.0,Whatsapp,0,3,Increased,YES,Watching web series,YES,YES,Roaming around freely, R57,Delhi-NCR,19,2.0,Very poor,Smartphone,2.0,2.0,8.0,1.0,Youtube,0,4,Increased,NO,Listening to music,NO,YES,\"Friends , relatives\", R58,Delhi-NCR,18,1.0,Very poor,Smartphone,8.0,0.0,8.0,5.0,Youtube,2,3,Increased,NO,Online surfing,YES,YES,School/college, R59,Delhi-NCR,20,5.0,Average,Laptop/Desktop,1.0,1.0,7.0,1.0,Whatsapp,0,3,Increased,YES,Listening to music,NO,YES,School/college, R60,Delhi-NCR,21,0.0,Very poor,Smartphone,5.0,0.0,8.0,1.0,Instagram,1,3,Remain Constant,NO,Online gaming,YES,NO,Eating outside, R61,Delhi-NCR,22,6.0,Very poor,Laptop/Desktop,6.0,0.0,6.0,1.0,Instagram,0,2,Increased,NO,Watching web series,YES,NO,\"Friends , relatives\", R62,Delhi-NCR,20,3.0,Very poor,Laptop/Desktop,6.0,1.0,8.0,1.0,Instagram,2,4,Increased,NO,Sleep,YES,YES,Roaming around freely, R63,Delhi-NCR,18,0.0,Very poor,Laptop/Desktop,2.0,1.0,6.0,5.0,Instagram,0,1,Remain Constant,NO,Crying,NO,YES,\"Friends , relatives\", R64,Delhi-NCR,20,2.0,Very poor,Laptop/Desktop,0.0,1.0,8.0,2.0,Instagram,0,3,Increased,NO,Watching web series,NO,YES,School/college, R65,Delhi-NCR,23,2.0,Very poor,Smartphone,1.0,1.0,7.0,5.0,Instagram,1,4,Decreased,NO,Listening to music,YES,YES,Roaming around freely, R66,Delhi-NCR,20,4.0,Average,Smartphone,4.0,2.0,7.0,2.0,Instagram,1,3,Increased,NO,Listening to music,NO,YES,Eating outside, R67,Outside Delhi-NCR,19,0.0,,,0.0,2.0,6.0,4.0,Instagram,0.5,3,Remain Constant,NO,Listening to music,NO,YES,Eating outside, R68,Delhi-NCR,18,3.0,Average,Smartphone,1.0,1.0,8.0,3.0,Whatsapp,0.5,4,Remain Constant,NO,Dancing,YES,YES,Roaming around freely, R69,Delhi-NCR,20,1.5,Very poor,Smartphone,3.0,2.0,9.0,1.0,Youtube,1,2,Decreased,YES,Sleep,NO,YES,Travelling, R70,Delhi-NCR,19,2.0,Very poor,Tablet,2.0,1.0,8.0,5.0,Instagram,0,4,Decreased,NO,Scrolling through social media,NO,YES,Roaming around freely, R71,Outside Delhi-NCR,20,2.0,Very poor,Smartphone,3.0,1.0,6.0,2.0,Instagram,1,4,Increased,NO,Listening to music,NO,NO,Travelling, R72,Delhi-NCR,22,6.0,Very poor,Smartphone,4.0,0.0,7.0,2.0,Whatsapp,0,1,Increased,NO,Online gaming,NO,NO,Eating outside, R73,Delhi-NCR,20,2.0,Very poor,Smartphone,2.0,0.0,7.0,3.0,Whatsapp,2,2,Remain Constant,NO,Reading books,NO,NO,\"Friends , relatives\", R74,Delhi-NCR,19,1.0,Average,Laptop/Desktop,0.5,1.0,7.0,5.0,Instagram,2,3,Remain Constant,NO,Many of these,NO,YES,\"Friends , relatives\", R75,Delhi-NCR,18,3.0,Very poor,Smartphone,2.0,2.0,8.0,8.0,Instagram,0,4,Remain Constant,NO,Listening to music,NO,YES,School/college, R76,Outside Delhi-NCR,19,3.0,Average,Smartphone,5.0,0.0,5.0,4.0,Telegram,0,2,Increased,YES,Listening to music,YES,NO,Roaming around freely, R77,Delhi-NCR,19,0.0,Very poor,Smartphone,1.0,1.0,8.0,2.0,Instagram,0,3,Decreased,NO,Listening to music,YES,YES,School/college, R78,Delhi-NCR,20,3.0,Average,Laptop/Desktop,3.0,0.0,10.0,10.0,Facebook,4.5,3,Increased,NO,Scrolling through social media,NO,NO,School/college, R79,Delhi-NCR,20,3.0,Excellent,Laptop/Desktop,0.0,1.0,8.0,5.0,Youtube,1,3,Increased,NO,Online surfing,NO,YES,School/college, R80,Delhi-NCR,19,1.0,Good,Laptop/Desktop,4.0,0.0,8.0,2.0,,0,4,Increased,NO,Web Series,YES,YES,Travelling, R81,Delhi-NCR,21,5.0,Average,Laptop/Desktop,5.0,0.0,8.0,7.0,Instagram,1,2,Increased,YES,Scrolling through social media,NO,YES,\"Friends , relatives\", R82,Delhi-NCR,21,3.0,Good,Smartphone,2.0,1.0,10.0,1.0,Youtube,0,3,Remain Constant,NO,Online gaming,NO,NO,Colleagues, R83,Delhi-NCR,19,2.0,Very poor,Smartphone,2.0,0.5,9.0,3.0,Instagram,1,2,Increased,NO,Online gaming,YES,YES,School/college, R84,Delhi-NCR,20,0.0,Very poor,Laptop/Desktop,1.0,1.0,12.0,2.0,Instagram,2,2,Increased,NO,Online gaming,NO,YES,Roaming around freely, R85,Outside Delhi-NCR,21,1.0,Poor,Smartphone,8.0,0.0,10.0,1.0,Whatsapp,0,3,Decreased,NO,Sleep,YES,YES,School/college, R86,Delhi-NCR,19,2.0,Very poor,Tablet,2.0,1.0,8.0,5.0,Instagram,0,4,Decreased,NO,Scrolling through social media,NO,YES,Roaming around freely, R87,Delhi-NCR,20,5.0,Average,Smartphone,3.0,1.0,7.0,1.5,Instagram,0,3,Increased,YES,drawing ,YES,YES,School/college, R88,Outside Delhi-NCR,21,4.0,Very poor,Smartphone,3.0,1.0,8.0,1.0,Linkedin,0,3,Decreased,NO,Meditation,NO,NO,All of them, R89,Delhi-NCR,18,3.0,Very poor,Smartphone,4.0,1.0,7.0,1.0,Whatsapp,0,4,Remain Constant,YES,Listening to music,NO,NO,Eating outside, R90,Outside Delhi-NCR,19,4.0,Average,Smartphone,3.0,1.0,7.0,3.0,Instagram,2,3,Increased,NO,Listening to music,YES,YES,School/college, R91,Outside Delhi-NCR,25,4.0,Very poor,Smartphone,3.0,1.0,7.0,1.0,Instagram,0,3,Remain Constant,YES,Cricket,NO,NO,Eating outside, R92,Delhi-NCR,19,0.0,Very poor,Smartphone,4.0,1.0,8.0,1.0,Whatsapp,0,3,Increased,NO,Listening to music,NO,YES,School/college, R93,Delhi-NCR,19,4.0,Very poor,Laptop/Desktop,0.0,0.0,8.0,2.0,Instagram,1.5,3,Increased,YES,Anime Manga,NO,NO,School/college, R94,Delhi-NCR,20,4.0,Good,Smartphone,2.0,2.0,8.0,6.0,Instagram,0,3,Decreased,NO,Sleeping,YES,YES,School/college, R95,Delhi-NCR,20,2.0,Average,Smartphone,3.0,1.0,5.0,4.0,Instagram,1,3,Increased,NO,Listening to music,NO,YES,School/college, R96,Delhi-NCR,19,5.0,Good,Tablet,3.0,1.0,8.0,2.0,Snapchat,0,2,Remain Constant,NO,Reading,NO,YES,Travelling, R97,Delhi-NCR,19,3.0,Average,Smartphone,1.0,0.0,10.0,4.0,Whatsapp,0,3,Remain Constant,NO,Listening to music,NO,YES,School/college, R98,Delhi-NCR,22,2.0,Average,Smartphone,0.0,0.0,12.0,4.0,Instagram,2,3,Increased,NO,Online gaming,NO,YES,Eating outside, R99,Outside Delhi-NCR,21,1.0,Good,Smartphone,3.0,2.0,10.0,1.0,Youtube,2,4,Increased,YES,Meditation,NO,YES,Colleagues, R100,Delhi-NCR,21,1.0,Very poor,Smartphone,2.0,1.0,8.0,1.0,Whatsapp,0,3,Increased,NO,Listening to music,NO,NO,School/college, ...]\n",
       "\n",
       "[1182 rows x 0 columns]>"
      ]
     },
     "execution_count": 15,
     "metadata": {},
     "output_type": "execute_result"
    }
   ],
   "source": [
    "covid = pd.read_csv('COVID-19 Survey.csv',\\\n",
    "                         sep=';',encoding='latin-1', index_col=0)\n",
    "covid.info\n",
    "#display(covid.head(n=3))\n",
    "#display(covid)"
   ]
  },
  {
   "cell_type": "markdown",
   "id": "90c0cc3e-16ce-44e7-8cb8-ffaf8e66721d",
   "metadata": {},
   "source": [
    "**2)** *Datenuntersuchung*: Welche Merkmale im Datensatz sind nominal und welche Merkmale sind ordinal skaliert? Bestimme anschließend die Modi aller nominalen Merkmale und gib sie in einer übersichtlichen Darstellungen an. Welche findest du überraschend? [4 Punkte]\n",
    "\n",
    "**3)** *Grafische Auswertung*: \n",
    "- Stelle für das Merkmal *Medium for online class* die absoluten Häufigkeiten dar.\n",
    "- Stelle für das Merkmal *Prefered social media platform* die relativen Häufigkeiten dar.\n",
    "- Stelle für das Merkmal *Rating of Online Class experience* die relativen Häufigkeiten dar. Sortiere dabei die Merkmalsausprägungen nach deiner gewählten Reihenfolge.\n",
    "- Stelle für das Merkmal *Time spent on Online Class* die kumulative Häufigkeit dar.\n",
    "\n",
    "Leite aus diesen Darstellungen jeweils eine Erkenntnis pro Darstellung ab. [9 Punkte]\n",
    "\n",
    "\n",
    "**4)** *Quantitative Merkmale*: Berechne Mittelwert, Median, Spannweite und Standardbaweichung für die metrischen Merkmale welche mit *Time spent on ..* beginnen. Speicher die Werte in einen neuen Dataframe und lass dir diesen anzeigen. Wie erklären sich die Unterschiede zwischen Mittelwert und Median? Stelle anschließend **in einer Grafik** die Boxplots für alle diese Merkmale dar. Leite mindestens zwei Aussagen aus den Vergleiche der Boxplots ab.\n",
    "\n",
    "*Hinweis*: Es ist notwendig beim Merkmal *Time spent on TV* die Daten zuerst in eine numerische Form zu transformieren.\n",
    "[9 Punkte]\n",
    "\n",
    "\n",
    "**5)** *Zusammenhänge Qualitativer Merkmale*: Bestimme die korrigierten Kontingenzkoeffizienten der Zusammenhänge zwischen dem Merkmal *Time utilized* und **allen** anderen nominalen und ordinalen Merkmalen. Stelle die Werte in einer Grafik deiner Wahl dar. Bewerte die Ergebnisse für die Merkmale mit dem niedrigsten und dem höchsten gefundenen Zusammenhang. Bestimme anschließend die folgenden bedingten Häufigkeiten:\n",
    "- P(Rating of Online class experience = Excellent | Health Issue = No)\n",
    "- P(Health Issue = No | Rating of Online class experience = Excellent)\n",
    "[7 Punkte]\n",
    "\n",
    "**6)** *Zusammenhänge Quantitativer Merkmale*: Stelle einen Pairplot für die quantitativen Merkmale dar und berechne die Korrelationskoeffizienten zwischen den Merkmalen. Stelle die Korrelationskoeffizienten ebenfalls übersichtlich dar. Interpretiere anschließend die gefundenen Werte unter Einbezug der entsprechenden grafischen Darstellungen. Welche Zusammenhänge findest du dabei überraschend und bei welchen Zusammenhängen bestätigen sich deine anfänglichen Vermutungen? [7 Punkte]\n",
    "\n",
    "\n",
    "\n",
    "**Hinweise**:\n",
    "- Übersicht der verschiedenen möglichen Farben in matplotlib: https://matplotlib.org/stable/gallery/color/named_colors.html\n",
    "- Bitte beschrifte alle Grafiken an den Achsen und füge wenn nötig eine Legende ein. Achte dabei auf die Lesbarkeit der Elemente.\n",
    "- Gestalte die Grafiken und das Layout der Grafiken übersichtlich. Also nicht 6 Grafiken untereinander, wenn man diese miteinander vergleichen soll. Zusätzlich muss der Inhalt der Grafiken lesbar sein."
   ]
  },
  {
   "cell_type": "code",
   "execution_count": null,
   "id": "24bedf3a-58e6-45e6-9780-f7b8f9c49b5a",
   "metadata": {},
   "outputs": [],
   "source": []
  },
  {
   "cell_type": "code",
   "execution_count": null,
   "id": "ef052b4e-1ba9-4d6a-ba4b-f65926957aee",
   "metadata": {},
   "outputs": [],
   "source": []
  }
 ],
 "metadata": {
  "kernelspec": {
   "display_name": "Python 3 (ipykernel)",
   "language": "python",
   "name": "python3"
  },
  "language_info": {
   "codemirror_mode": {
    "name": "ipython",
    "version": 3
   },
   "file_extension": ".py",
   "mimetype": "text/x-python",
   "name": "python",
   "nbconvert_exporter": "python",
   "pygments_lexer": "ipython3",
   "version": "3.11.5"
  }
 },
 "nbformat": 4,
 "nbformat_minor": 5
}
